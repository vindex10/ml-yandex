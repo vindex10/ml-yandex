{
 "cells": [
  {
   "cell_type": "code",
   "execution_count": 79,
   "metadata": {},
   "outputs": [],
   "source": [
    "exec(open(\"../header.py\", \"r\").read())"
   ]
  },
  {
   "cell_type": "code",
   "execution_count": 80,
   "metadata": {},
   "outputs": [],
   "source": [
    "from sklearn.model_selection import train_test_split\n",
    "from sklearn.metrics import log_loss, make_scorer\n",
    "from sklearn.ensemble import GradientBoostingClassifier\n",
    "from sklearn.model_selection import GridSearchCV\n",
    "from sklearn.ensemble import RandomForestClassifier"
   ]
  },
  {
   "cell_type": "code",
   "execution_count": 81,
   "metadata": {},
   "outputs": [],
   "source": [
    "data = pd.read_csv(data_path/\"gbm-data.csv\")"
   ]
  },
  {
   "cell_type": "code",
   "execution_count": 82,
   "metadata": {},
   "outputs": [
    {
     "data": {
      "text/html": [
       "<div>\n",
       "<style scoped>\n",
       "    .dataframe tbody tr th:only-of-type {\n",
       "        vertical-align: middle;\n",
       "    }\n",
       "\n",
       "    .dataframe tbody tr th {\n",
       "        vertical-align: top;\n",
       "    }\n",
       "\n",
       "    .dataframe thead th {\n",
       "        text-align: right;\n",
       "    }\n",
       "</style>\n",
       "<table border=\"1\" class=\"dataframe\">\n",
       "  <thead>\n",
       "    <tr style=\"text-align: right;\">\n",
       "      <th></th>\n",
       "      <th>Activity</th>\n",
       "      <th>D1</th>\n",
       "      <th>D2</th>\n",
       "      <th>D3</th>\n",
       "      <th>D4</th>\n",
       "      <th>D5</th>\n",
       "      <th>D6</th>\n",
       "      <th>D7</th>\n",
       "      <th>D8</th>\n",
       "      <th>D9</th>\n",
       "      <th>...</th>\n",
       "      <th>D1767</th>\n",
       "      <th>D1768</th>\n",
       "      <th>D1769</th>\n",
       "      <th>D1770</th>\n",
       "      <th>D1771</th>\n",
       "      <th>D1772</th>\n",
       "      <th>D1773</th>\n",
       "      <th>D1774</th>\n",
       "      <th>D1775</th>\n",
       "      <th>D1776</th>\n",
       "    </tr>\n",
       "  </thead>\n",
       "  <tbody>\n",
       "    <tr>\n",
       "      <th>0</th>\n",
       "      <td>1</td>\n",
       "      <td>0.000000</td>\n",
       "      <td>0.497009</td>\n",
       "      <td>0.10</td>\n",
       "      <td>0.0</td>\n",
       "      <td>0.132956</td>\n",
       "      <td>0.678031</td>\n",
       "      <td>0.273166</td>\n",
       "      <td>0.585445</td>\n",
       "      <td>0.743663</td>\n",
       "      <td>...</td>\n",
       "      <td>0</td>\n",
       "      <td>0</td>\n",
       "      <td>0</td>\n",
       "      <td>0</td>\n",
       "      <td>0</td>\n",
       "      <td>0</td>\n",
       "      <td>0</td>\n",
       "      <td>0</td>\n",
       "      <td>0</td>\n",
       "      <td>0</td>\n",
       "    </tr>\n",
       "    <tr>\n",
       "      <th>1</th>\n",
       "      <td>1</td>\n",
       "      <td>0.366667</td>\n",
       "      <td>0.606291</td>\n",
       "      <td>0.05</td>\n",
       "      <td>0.0</td>\n",
       "      <td>0.111209</td>\n",
       "      <td>0.803455</td>\n",
       "      <td>0.106105</td>\n",
       "      <td>0.411754</td>\n",
       "      <td>0.836582</td>\n",
       "      <td>...</td>\n",
       "      <td>1</td>\n",
       "      <td>1</td>\n",
       "      <td>1</td>\n",
       "      <td>1</td>\n",
       "      <td>0</td>\n",
       "      <td>1</td>\n",
       "      <td>0</td>\n",
       "      <td>0</td>\n",
       "      <td>1</td>\n",
       "      <td>0</td>\n",
       "    </tr>\n",
       "    <tr>\n",
       "      <th>2</th>\n",
       "      <td>1</td>\n",
       "      <td>0.033300</td>\n",
       "      <td>0.480124</td>\n",
       "      <td>0.00</td>\n",
       "      <td>0.0</td>\n",
       "      <td>0.209791</td>\n",
       "      <td>0.610350</td>\n",
       "      <td>0.356453</td>\n",
       "      <td>0.517720</td>\n",
       "      <td>0.679051</td>\n",
       "      <td>...</td>\n",
       "      <td>0</td>\n",
       "      <td>0</td>\n",
       "      <td>0</td>\n",
       "      <td>0</td>\n",
       "      <td>0</td>\n",
       "      <td>0</td>\n",
       "      <td>0</td>\n",
       "      <td>0</td>\n",
       "      <td>0</td>\n",
       "      <td>0</td>\n",
       "    </tr>\n",
       "    <tr>\n",
       "      <th>3</th>\n",
       "      <td>1</td>\n",
       "      <td>0.000000</td>\n",
       "      <td>0.538825</td>\n",
       "      <td>0.00</td>\n",
       "      <td>0.5</td>\n",
       "      <td>0.196344</td>\n",
       "      <td>0.724230</td>\n",
       "      <td>0.235606</td>\n",
       "      <td>0.288764</td>\n",
       "      <td>0.805110</td>\n",
       "      <td>...</td>\n",
       "      <td>0</td>\n",
       "      <td>0</td>\n",
       "      <td>0</td>\n",
       "      <td>0</td>\n",
       "      <td>0</td>\n",
       "      <td>0</td>\n",
       "      <td>0</td>\n",
       "      <td>0</td>\n",
       "      <td>0</td>\n",
       "      <td>0</td>\n",
       "    </tr>\n",
       "    <tr>\n",
       "      <th>4</th>\n",
       "      <td>0</td>\n",
       "      <td>0.100000</td>\n",
       "      <td>0.517794</td>\n",
       "      <td>0.00</td>\n",
       "      <td>0.0</td>\n",
       "      <td>0.494734</td>\n",
       "      <td>0.781422</td>\n",
       "      <td>0.154361</td>\n",
       "      <td>0.303809</td>\n",
       "      <td>0.812646</td>\n",
       "      <td>...</td>\n",
       "      <td>0</td>\n",
       "      <td>0</td>\n",
       "      <td>0</td>\n",
       "      <td>0</td>\n",
       "      <td>0</td>\n",
       "      <td>0</td>\n",
       "      <td>0</td>\n",
       "      <td>0</td>\n",
       "      <td>0</td>\n",
       "      <td>0</td>\n",
       "    </tr>\n",
       "  </tbody>\n",
       "</table>\n",
       "<p>5 rows × 1777 columns</p>\n",
       "</div>"
      ],
      "text/plain": [
       "   Activity        D1        D2    D3   D4        D5        D6        D7  \\\n",
       "0         1  0.000000  0.497009  0.10  0.0  0.132956  0.678031  0.273166   \n",
       "1         1  0.366667  0.606291  0.05  0.0  0.111209  0.803455  0.106105   \n",
       "2         1  0.033300  0.480124  0.00  0.0  0.209791  0.610350  0.356453   \n",
       "3         1  0.000000  0.538825  0.00  0.5  0.196344  0.724230  0.235606   \n",
       "4         0  0.100000  0.517794  0.00  0.0  0.494734  0.781422  0.154361   \n",
       "\n",
       "         D8        D9  ...    D1767  D1768  D1769  D1770  D1771  D1772  D1773  \\\n",
       "0  0.585445  0.743663  ...        0      0      0      0      0      0      0   \n",
       "1  0.411754  0.836582  ...        1      1      1      1      0      1      0   \n",
       "2  0.517720  0.679051  ...        0      0      0      0      0      0      0   \n",
       "3  0.288764  0.805110  ...        0      0      0      0      0      0      0   \n",
       "4  0.303809  0.812646  ...        0      0      0      0      0      0      0   \n",
       "\n",
       "   D1774  D1775  D1776  \n",
       "0      0      0      0  \n",
       "1      0      1      0  \n",
       "2      0      0      0  \n",
       "3      0      0      0  \n",
       "4      0      0      0  \n",
       "\n",
       "[5 rows x 1777 columns]"
      ]
     },
     "execution_count": 82,
     "metadata": {},
     "output_type": "execute_result"
    }
   ],
   "source": [
    "data.head()"
   ]
  },
  {
   "cell_type": "code",
   "execution_count": 83,
   "metadata": {},
   "outputs": [],
   "source": [
    "X_train, X_test, y_train, y_test = train_test_split(data.drop(columns=[\"Activity\"]),\n",
    "                                                    data[\"Activity\"],\n",
    "                                                    test_size=0.8,\n",
    "                                                    random_state=241)"
   ]
  },
  {
   "cell_type": "code",
   "execution_count": 85,
   "metadata": {
    "scrolled": true
   },
   "outputs": [
    {
     "name": "stdout",
     "output_type": "stream",
     "text": [
      "      Iter       Train Loss   Remaining Time \n",
      "         1           1.0190           18.30s\n",
      "         2           0.9192           17.49s\n",
      "         3           0.8272           14.98s\n",
      "         4           0.7834           13.43s\n",
      "         5           0.7109           13.33s\n",
      "         6           0.6368           13.82s\n",
      "         7           0.5797           13.54s\n",
      "         8           0.5610           12.59s\n",
      "         9           0.5185           12.50s\n",
      "        10           0.4984           11.89s\n",
      "        20           0.1999           11.14s\n",
      "        30           0.1313            9.83s\n",
      "        40           0.0790            9.32s\n",
      "        50           0.0511            8.76s\n",
      "        60           0.0352            8.28s\n",
      "        70           0.0245            7.69s\n",
      "        80           0.0162            7.24s\n",
      "        90           0.0114            6.74s\n",
      "       100           0.0077            6.34s\n",
      "       200           0.0004            1.88s\n",
      "      Iter       Train Loss   Remaining Time \n",
      "         1           1.1255           17.34s\n",
      "         2           1.0035           17.50s\n",
      "         3           0.9386           17.37s\n",
      "         4           0.8844           15.68s\n",
      "         5           0.8381           14.99s\n",
      "         6           0.7995           14.13s\n",
      "         7           0.7559           13.75s\n",
      "         8           0.7205           13.38s\n",
      "         9           0.6958           12.87s\n",
      "        10           0.6725           12.54s\n",
      "        20           0.4672           10.71s\n",
      "        30           0.3179           10.21s\n",
      "        40           0.2274            9.72s\n",
      "        50           0.1774            9.09s\n",
      "        60           0.1394            8.56s\n",
      "        70           0.1050            8.16s\n",
      "        80           0.0805            7.69s\n",
      "        90           0.0650            7.12s\n",
      "       100           0.0511            6.72s\n",
      "       200           0.0058            2.18s\n",
      "      Iter       Train Loss   Remaining Time \n",
      "         1           1.2095           17.38s\n",
      "         2           1.1006           17.47s\n",
      "         3           1.0240           17.64s\n",
      "         4           0.9729           17.46s\n",
      "         5           0.9387           15.85s\n",
      "         6           0.8948           16.05s\n",
      "         7           0.8621           15.46s\n",
      "         8           0.8360           14.78s\n",
      "         9           0.8171           14.12s\n",
      "        10           0.7883           13.85s\n",
      "        20           0.6164           11.52s\n",
      "        30           0.4933           10.51s\n",
      "        40           0.4248            9.39s\n",
      "        50           0.3345            9.05s\n",
      "        60           0.2760            8.51s\n",
      "        70           0.2263            8.05s\n",
      "        80           0.1971            7.43s\n",
      "        90           0.1693            6.92s\n",
      "       100           0.1388            6.59s\n",
      "       200           0.0294            2.17s\n",
      "      Iter       Train Loss   Remaining Time \n",
      "         1           1.2613           17.24s\n",
      "         2           1.1715           17.20s\n",
      "         3           1.1009           17.25s\n",
      "         4           1.0529           17.12s\n",
      "         5           1.0130           17.05s\n",
      "         6           0.9740           17.01s\n",
      "         7           0.9475           15.93s\n",
      "         8           0.9197           16.01s\n",
      "         9           0.8979           15.25s\n",
      "        10           0.8730           15.26s\n",
      "        20           0.7207           12.00s\n",
      "        30           0.6055           10.72s\n",
      "        40           0.5244            9.81s\n",
      "        50           0.4501            9.16s\n",
      "        60           0.3908            8.57s\n",
      "        70           0.3372            8.09s\n",
      "        80           0.3009            7.62s\n",
      "        90           0.2603            7.22s\n",
      "       100           0.2327            6.70s\n",
      "       200           0.0835            2.14s\n",
      "      Iter       Train Loss   Remaining Time \n",
      "         1           1.3199           17.76s\n",
      "         2           1.2645           17.98s\n",
      "         3           1.2170           17.94s\n",
      "         4           1.1775           18.05s\n",
      "         5           1.1404           17.94s\n",
      "         6           1.1106           17.94s\n",
      "         7           1.0844           17.74s\n",
      "         8           1.0617           17.56s\n",
      "         9           1.0411           17.41s\n",
      "        10           1.0223           17.26s\n",
      "        20           0.8864           14.96s\n",
      "        30           0.7844           12.90s\n",
      "        40           0.7176           11.38s\n",
      "        50           0.6590           10.30s\n",
      "        60           0.6120            9.41s\n",
      "        70           0.5599            8.88s\n",
      "        80           0.5242            8.18s\n",
      "        90           0.4829            7.64s\n",
      "       100           0.4473            7.13s\n",
      "       200           0.2379            2.23s\n"
     ]
    }
   ],
   "source": [
    "models = []\n",
    "rates = [1, 0.5, 0.3, 0.2, 0.1]\n",
    "for lr in rates:\n",
    "    gb = GradientBoostingClassifier(n_estimators=250, verbose=True, random_state=241, learning_rate=lr)\n",
    "    gb.fit(X_train, y_train)\n",
    "    models.append(gb)"
   ]
  },
  {
   "cell_type": "code",
   "execution_count": 112,
   "metadata": {},
   "outputs": [],
   "source": [
    "test_loss = []\n",
    "for dec in models[3].staged_decision_function(X_test):\n",
    "    pred = 1/(1 + sp.exp(-dec))\n",
    "    test_loss.append(log_loss(y_test, pred))\n",
    "test_loss = sp.array(test_loss)"
   ]
  },
  {
   "cell_type": "code",
   "execution_count": 113,
   "metadata": {},
   "outputs": [],
   "source": [
    "train_loss = []\n",
    "for dec in models[3].staged_decision_function(X_train):\n",
    "    pred = 1/(1 + sp.exp(-dec))\n",
    "    train_loss.append(log_loss(y_train, pred))\n",
    "train_loss = sp.array(train_loss)"
   ]
  },
  {
   "cell_type": "code",
   "execution_count": 114,
   "metadata": {},
   "outputs": [
    {
     "data": {
      "text/plain": [
       "array([0.64401783, 0.61168045, 0.59048394, 0.57673645, 0.56346378,\n",
       "       0.55857055, 0.55274722, 0.54609412, 0.54151965, 0.5377396 ,\n",
       "       0.53598272, 0.53477035, 0.53431248, 0.53474299, 0.53430067,\n",
       "       0.53431551, 0.53439793, 0.53220787, 0.53277886, 0.53318071,\n",
       "       0.53327854, 0.53287661, 0.53317139, 0.53299231, 0.53319711,\n",
       "       0.53399381, 0.5326847 , 0.53251546, 0.53423211, 0.53341105,\n",
       "       0.533377  , 0.53388392, 0.53459941, 0.53527945, 0.5339579 ,\n",
       "       0.53178307, 0.5314508 , 0.5317362 , 0.53171129, 0.53283043,\n",
       "       0.53396297, 0.53451548, 0.53516947, 0.53554184, 0.53526646,\n",
       "       0.53596216, 0.53553844, 0.53645891, 0.5377777 , 0.53880307,\n",
       "       0.53900055, 0.54011173, 0.5412355 , 0.54184368, 0.54302555,\n",
       "       0.54454459, 0.54466638, 0.54494448, 0.54498348, 0.54528378,\n",
       "       0.54467333, 0.54476075, 0.54437217, 0.54253894, 0.54304696,\n",
       "       0.54296139, 0.54468461, 0.54606587, 0.54578656, 0.54626684,\n",
       "       0.54694222, 0.54758565, 0.54698053, 0.547232  , 0.54812905,\n",
       "       0.54920928, 0.54893149, 0.54987559, 0.54949023, 0.55196177,\n",
       "       0.55245969, 0.55334059, 0.55397767, 0.55445835, 0.55506116,\n",
       "       0.5550746 , 0.55513333, 0.55642894, 0.55632159, 0.55784496,\n",
       "       0.55758983, 0.55787699, 0.55815681, 0.55921982, 0.56095118,\n",
       "       0.56254543, 0.56320605, 0.56275188, 0.56279104, 0.56355384,\n",
       "       0.56333278, 0.56366127, 0.56373966, 0.56472234, 0.56517384,\n",
       "       0.56501678, 0.56571901, 0.5666751 , 0.5669519 , 0.56682198,\n",
       "       0.56672475, 0.56730585, 0.5667907 , 0.56816954, 0.57053411,\n",
       "       0.57173117, 0.57286654, 0.57236471, 0.57227223, 0.57143717,\n",
       "       0.57241225, 0.57261794, 0.57352281, 0.57564956, 0.57631032,\n",
       "       0.57693796, 0.57841829, 0.58040834, 0.58076256, 0.58123288,\n",
       "       0.58136268, 0.58198172, 0.58363415, 0.58358102, 0.5829212 ,\n",
       "       0.58421024, 0.5844999 , 0.5855552 , 0.58519149, 0.58577324,\n",
       "       0.5878327 , 0.58885042, 0.58956704, 0.58998372, 0.59071063,\n",
       "       0.59142087, 0.59190471, 0.5918321 , 0.59220408, 0.59352175,\n",
       "       0.59391691, 0.59365527, 0.59446058, 0.59450569, 0.59463405,\n",
       "       0.59583395, 0.59627699, 0.59784791, 0.59839229, 0.5984625 ,\n",
       "       0.599591  , 0.5996832 , 0.59992282, 0.60037618, 0.60087475,\n",
       "       0.6001029 , 0.60086534, 0.60069267, 0.60141946, 0.60209132,\n",
       "       0.60325133, 0.60356234, 0.6041233 , 0.6046789 , 0.60587887,\n",
       "       0.6068017 , 0.60719947, 0.60826689, 0.61101721, 0.61080032,\n",
       "       0.61136375, 0.61112837, 0.61167151, 0.61117745, 0.61347906,\n",
       "       0.61369151, 0.61500677, 0.61472573, 0.61593501, 0.61769963,\n",
       "       0.61823891, 0.61891499, 0.61909068, 0.62008462, 0.62097893,\n",
       "       0.62144486, 0.62327036, 0.62303348, 0.62224485, 0.623279  ,\n",
       "       0.62445367, 0.62552337, 0.62618497, 0.62726582, 0.62764941,\n",
       "       0.62767392, 0.62763936, 0.62957629, 0.62975751, 0.62962773,\n",
       "       0.63088464, 0.63125035, 0.63184288, 0.63229456, 0.63337115,\n",
       "       0.63406952, 0.6345688 , 0.63463696, 0.63527201, 0.63677551,\n",
       "       0.63707243, 0.63742457, 0.63782536, 0.63775331, 0.63802281,\n",
       "       0.63908752, 0.6407855 , 0.64082974, 0.64193275, 0.64191469,\n",
       "       0.64241186, 0.64326262, 0.6438098 , 0.6444623 , 0.64688242,\n",
       "       0.64746481, 0.64733927, 0.64785696, 0.64809716, 0.65022928,\n",
       "       0.65158663, 0.65209154, 0.65256664, 0.65371499, 0.65496669,\n",
       "       0.65580387, 0.65679754, 0.65751481, 0.65780572, 0.6588753 ])"
      ]
     },
     "execution_count": 114,
     "metadata": {},
     "output_type": "execute_result"
    }
   ],
   "source": [
    "test_loss"
   ]
  },
  {
   "cell_type": "code",
   "execution_count": 115,
   "metadata": {},
   "outputs": [
    {
     "data": {
      "text/plain": [
       "<matplotlib.collections.PathCollection at 0x7fa3c6817cc0>"
      ]
     },
     "execution_count": 115,
     "metadata": {},
     "output_type": "execute_result"
    },
    {
     "data": {
      "image/png": "[encoded data removed]",
      "text/plain": [
       "<Figure size 432x288 with 1 Axes>"
      ]
     },
     "metadata": {
      "needs_background": "light"
     },
     "output_type": "display_data"
    }
   ],
   "source": [
    "plt.scatter(sp.arange(1, test_loss.shape[0]+1, 1), test_loss)"
   ]
  },
  {
   "cell_type": "code",
   "execution_count": 116,
   "metadata": {},
   "outputs": [
    {
     "data": {
      "text/plain": [
       "<matplotlib.collections.PathCollection at 0x7fa3c67f97f0>"
      ]
     },
     "execution_count": 116,
     "metadata": {},
     "output_type": "execute_result"
    },
    {
     "data": {
      "image/png": "[encoded data removed]",
      "text/plain": [
       "<Figure size 432x288 with 1 Axes>"
      ]
     },
     "metadata": {
      "needs_background": "light"
     },
     "output_type": "display_data"
    }
   ],
   "source": [
    "plt.scatter(sp.arange(1, train_loss.shape[0]+1, 1), train_loss)"
   ]
  },
  {
   "cell_type": "code",
   "execution_count": 117,
   "metadata": {},
   "outputs": [
    {
     "name": "stdout",
     "output_type": "stream",
     "text": [
      "*** OUTPUT (output/01_overfit.dat) ***\n",
      "overfitting\n"
     ]
    }
   ],
   "source": [
    "@answer\n",
    "def overfit(fout):\n",
    "    fout.write(\"overfitting\")\n",
    "overfit()"
   ]
  },
  {
   "cell_type": "code",
   "execution_count": 118,
   "metadata": {},
   "outputs": [
    {
     "name": "stdout",
     "output_type": "stream",
     "text": [
      "*** OUTPUT (output/02_min_train_loss.dat) ***\n",
      "0.53 37\n"
     ]
    }
   ],
   "source": [
    "@answer\n",
    "def min_train_loss(fout):\n",
    "    idx = sp.argmin(test_loss)\n",
    "    fout.write(f\"{test_loss[idx]:.2f} {idx+1}\")\n",
    "min_train_loss()"
   ]
  },
  {
   "cell_type": "code",
   "execution_count": 122,
   "metadata": {},
   "outputs": [],
   "source": [
    "forest = RandomForestClassifier(n_estimators=37, random_state=241)"
   ]
  },
  {
   "cell_type": "code",
   "execution_count": 123,
   "metadata": {},
   "outputs": [
    {
     "data": {
      "text/plain": [
       "RandomForestClassifier(bootstrap=True, class_weight=None, criterion='gini',\n",
       "            max_depth=None, max_features='auto', max_leaf_nodes=None,\n",
       "            min_impurity_decrease=0.0, min_impurity_split=None,\n",
       "            min_samples_leaf=1, min_samples_split=2,\n",
       "            min_weight_fraction_leaf=0.0, n_estimators=37, n_jobs=None,\n",
       "            oob_score=False, random_state=241, verbose=0, warm_start=False)"
      ]
     },
     "execution_count": 123,
     "metadata": {},
     "output_type": "execute_result"
    }
   ],
   "source": [
    "forest.fit(X_train, y_train)"
   ]
  },
  {
   "cell_type": "code",
   "execution_count": 124,
   "metadata": {},
   "outputs": [
    {
     "name": "stdout",
     "output_type": "stream",
     "text": [
      "*** OUTPUT (output/03_forest_loss.dat) ***\n",
      "0.54\n"
     ]
    }
   ],
   "source": [
    "@answer\n",
    "def forest_loss(fout):\n",
    "    probs = forest.predict_proba(X_test)\n",
    "    loss = log_loss(y_test, probs)\n",
    "    fout.write(f\"{loss:.2f}\")\n",
    "forest_loss()"
   ]
  },
  {
   "cell_type": "code",
   "execution_count": null,
   "metadata": {},
   "outputs": [],
   "source": []
  }
 ],
 "metadata": {
  "kernelspec": {
   "display_name": "Python 3",
   "language": "python",
   "name": "python3"
  },
  "language_info": {
   "codemirror_mode": {
    "name": "ipython",
    "version": 3
   },
   "file_extension": ".py",
   "mimetype": "text/x-python",
   "name": "python",
   "nbconvert_exporter": "python",
   "pygments_lexer": "ipython3",
   "version": "3.6.5"
  }
 },
 "nbformat": 4,
 "nbformat_minor": 2
}
