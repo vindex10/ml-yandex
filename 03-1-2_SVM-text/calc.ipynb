{
 "cells": [
  {
   "cell_type": "code",
   "execution_count": 1,
   "metadata": {},
   "outputs": [],
   "source": [
    "exec(open(\"../header.py\", \"r\").read())"
   ]
  },
  {
   "cell_type": "code",
   "execution_count": 21,
   "metadata": {},
   "outputs": [],
   "source": [
    "from sklearn.svm import SVC\n",
    "from sklearn import datasets\n",
    "\n",
    "from sklearn.feature_extraction.text import TfidfVectorizer\n",
    "from sklearn.model_selection import GridSearchCV, KFold"
   ]
  },
  {
   "cell_type": "code",
   "execution_count": 4,
   "metadata": {},
   "outputs": [
    {
     "name": "stderr",
     "output_type": "stream",
     "text": [
      "Downloading 20news dataset. This may take a few minutes.\n",
      "Downloading dataset from https://ndownloader.figshare.com/files/5975967 (14 MB)\n"
     ]
    }
   ],
   "source": [
    "data = datasets.fetch_20newsgroups(subset=\"all\",\n",
    "                                   categories=['alt.atheism', 'sci.space'])"
   ]
  },
  {
   "cell_type": "code",
   "execution_count": 6,
   "metadata": {},
   "outputs": [],
   "source": [
    "vectorizer = TfidfVectorizer()"
   ]
  },
  {
   "cell_type": "code",
   "execution_count": 7,
   "metadata": {},
   "outputs": [],
   "source": [
    "vectorized_X = vectorizer.fit_transform(data.data)"
   ]
  },
  {
   "cell_type": "code",
   "execution_count": 24,
   "metadata": {},
   "outputs": [],
   "source": [
    "grid = {\"C\": 10**sp.arange(-5,6,1,dtype=sp.float64)}\n",
    "clsfr = SVC(kernel=\"linear\", random_state=241)\n",
    "cross_validator = KFold(n_splits=5, shuffle=True, random_state=241)\n",
    "grid_search = GridSearchCV(clsfr, grid, scoring=\"accuracy\", cv=cross_validator)"
   ]
  },
  {
   "cell_type": "code",
   "execution_count": 26,
   "metadata": {},
   "outputs": [
    {
     "data": {
      "text/plain": [
       "GridSearchCV(cv=KFold(n_splits=5, random_state=241, shuffle=True),\n",
       "       error_score='raise-deprecating',\n",
       "       estimator=SVC(C=1.0, cache_size=200, class_weight=None, coef0=0.0,\n",
       "  decision_function_shape='ovr', degree=3, gamma='auto_deprecated',\n",
       "  kernel='linear', max_iter=-1, probability=False, random_state=241,\n",
       "  shrinking=True, tol=0.001, verbose=False),\n",
       "       fit_params=None, iid='warn', n_jobs=None,\n",
       "       param_grid={'C': array([1.e-05, 1.e-04, 1.e-03, 1.e-02, 1.e-01, 1.e+00, 1.e+01, 1.e+02,\n",
       "       1.e+03, 1.e+04, 1.e+05])},\n",
       "       pre_dispatch='2*n_jobs', refit=True, return_train_score='warn',\n",
       "       scoring='accuracy', verbose=0)"
      ]
     },
     "execution_count": 26,
     "metadata": {},
     "output_type": "execute_result"
    }
   ],
   "source": [
    "grid_search.fit(vectorized_X, data.target)"
   ]
  },
  {
   "cell_type": "code",
   "execution_count": 127,
   "metadata": {},
   "outputs": [],
   "source": [
    "scores = [(param[\"C\"], score) for param, score in zip(grid_search.cv_results_[\"params\"], grid_search.cv_results_[\"mean_test_score\"]) ]\n",
    "scores = sp.array(scores)\n",
    "\n",
    "best_C = scores[-1, 0]"
   ]
  },
  {
   "cell_type": "code",
   "execution_count": 128,
   "metadata": {},
   "outputs": [],
   "source": [
    "best_svm = SVC(kernel=\"linear\", random_state=241, C=best_C)"
   ]
  },
  {
   "cell_type": "code",
   "execution_count": 129,
   "metadata": {},
   "outputs": [
    {
     "data": {
      "text/plain": [
       "SVC(C=100000.0, cache_size=200, class_weight=None, coef0=0.0,\n",
       "  decision_function_shape='ovr', degree=3, gamma='auto_deprecated',\n",
       "  kernel='linear', max_iter=-1, probability=False, random_state=241,\n",
       "  shrinking=True, tol=0.001, verbose=False)"
      ]
     },
     "execution_count": 129,
     "metadata": {},
     "output_type": "execute_result"
    }
   ],
   "source": [
    "best_svm.fit(vectorized_X, data.target)"
   ]
  },
  {
   "cell_type": "code",
   "execution_count": 130,
   "metadata": {},
   "outputs": [
    {
     "name": "stdout",
     "output_type": "stream",
     "text": [
      "*** OUTPUT (output/01_valuable_words.dat) ***\n",
      "airliner,daggers,maintaining,manager,materialism,mcl,miniature,minuteman,misstated,natch\n"
     ]
    }
   ],
   "source": [
    "@answer\n",
    "def valuable_words(fout):\n",
    "    ids = sp.argsort(sp.absolute(best_svm.coef_.data))[-10:]\n",
    "    words = [vectorizer.get_feature_names()[i] for i in ids]\n",
    "    words = sorted(words, key=str.lower)\n",
    "    fout.write(\",\".join(words))\n",
    "valuable_words()"
   ]
  },
  {
   "cell_type": "code",
   "execution_count": 131,
   "metadata": {},
   "outputs": [
    {
     "name": "stdout",
     "output_type": "stream",
     "text": [
      "  (0, 11098)\t0.12314757052401276\n",
      "  (0, 6775)\t0.055798205187217696\n",
      "  (0, 5107)\t0.05917670295088137\n",
      "  (0, 98)\t0.06495228302567005\n",
      "  (0, 27042)\t0.10420755870278342\n",
      "  (0, 22622)\t0.10420755870278342\n",
      "  (0, 6135)\t0.10420755870278342\n",
      "  (0, 27130)\t0.006724904030248984\n",
      "  (0, 27083)\t0.006724904030248984\n",
      "  (0, 26026)\t0.007093893416403684\n",
      "  (0, 23036)\t0.006094112508228685\n",
      "  (0, 22982)\t0.007093893416403684\n",
      "  (0, 22762)\t0.007093893416403684\n",
      "  (0, 22739)\t0.007093893416403684\n",
      "  (0, 22595)\t0.007093893416403684\n",
      "  (0, 21945)\t0.006724904030248984\n",
      "  (0, 20801)\t0.014187786832807367\n",
      "  (0, 20800)\t0.04707432821174289\n",
      "  (0, 20042)\t0.021281680249211052\n",
      "  (0, 17346)\t0.012926203788766766\n",
      "  (0, 16400)\t0.016389962958625152\n",
      "  (0, 16224)\t0.007093893416403684\n",
      "  (0, 13928)\t0.007093893416403684\n",
      "  (0, 11716)\t0.007093893416403684\n",
      "  (0, 10127)\t0.006724904030248984\n",
      "  :\t:\n",
      "  (0, 9935)\t0.2940798330132581\n",
      "  (0, 9711)\t-0.07997792479459158\n",
      "  (0, 9622)\t0.05641505789729551\n",
      "  (0, 9368)\t-0.31383874923931987\n",
      "  (0, 9107)\t-0.15842850143295054\n",
      "  (0, 9034)\t0.16675496109200622\n",
      "  (0, 9009)\t-0.31685700286590107\n",
      "  (0, 8498)\t0.01051380636915902\n",
      "  (0, 7951)\t0.017644465619806777\n",
      "  (0, 7418)\t-0.16356777175360251\n",
      "  (0, 7316)\t-0.12573158462636871\n",
      "  (0, 6702)\t0.4584051243125382\n",
      "  (0, 5653)\t-0.1361978677665727\n",
      "  (0, 5621)\t-0.32713554350720503\n",
      "  (0, 5596)\t-0.4902473137831281\n",
      "  (0, 5563)\t0.062362292551907075\n",
      "  (0, 4796)\t-0.28926526842613076\n",
      "  (0, 4455)\t-0.2363230414210276\n",
      "  (0, 4241)\t-0.517495298187094\n",
      "  (0, 4059)\t-0.015215610680389409\n",
      "  (0, 4040)\t-0.22243107921344318\n",
      "  (0, 3837)\t-0.26971015956269995\n",
      "  (0, 3669)\t-0.21840788988394366\n",
      "  (0, 3601)\t0.18606770152324426\n",
      "  (0, 335)\t-0.2448089148982257\n"
     ]
    }
   ],
   "source": [
    "print(best_svm.coef_)"
   ]
  },
  {
   "cell_type": "code",
   "execution_count": null,
   "metadata": {},
   "outputs": [],
   "source": []
  }
 ],
 "metadata": {
  "kernelspec": {
   "display_name": "Python 3",
   "language": "python",
   "name": "python3"
  },
  "language_info": {
   "codemirror_mode": {
    "name": "ipython",
    "version": 3
   },
   "file_extension": ".py",
   "mimetype": "text/x-python",
   "name": "python",
   "nbconvert_exporter": "python",
   "pygments_lexer": "ipython3",
   "version": "3.6.5"
  }
 },
 "nbformat": 4,
 "nbformat_minor": 2
}
