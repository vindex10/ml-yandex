{
 "cells": [
  {
   "cell_type": "code",
   "execution_count": 1,
   "metadata": {},
   "outputs": [],
   "source": [
    "exec(open(\"../header.py\", \"r\").read())"
   ]
  },
  {
   "cell_type": "code",
   "execution_count": 4,
   "metadata": {},
   "outputs": [],
   "source": [
    "from sklearn.svm import SVC\n",
    "from sklearn import datasets\n",
    "\n",
    "from sklearn.feature_extraction.text import TfidfVectorizer\n",
    "from sklearn.model_selection import GridSearchCV\n",
    "from sklearn.model_selection import KFold"
   ]
  },
  {
   "cell_type": "code",
   "execution_count": 5,
   "metadata": {},
   "outputs": [],
   "source": [
    "data = datasets.fetch_20newsgroups(subset=\"all\",\n",
    "                                   categories=['alt.atheism', 'sci.space'])"
   ]
  },
  {
   "cell_type": "code",
   "execution_count": 6,
   "metadata": {},
   "outputs": [],
   "source": [
    "vectorizer = TfidfVectorizer()"
   ]
  },
  {
   "cell_type": "code",
   "execution_count": 7,
   "metadata": {},
   "outputs": [],
   "source": [
    "vectorized_X = vectorizer.fit_transform(data.data)"
   ]
  },
  {
   "cell_type": "code",
   "execution_count": 9,
   "metadata": {},
   "outputs": [],
   "source": [
    "grid = {\"C\": 10**sp.arange(-5,6,1,dtype=sp.float64)}\n",
    "clsfr = SVC(kernel=\"linear\", random_state=241)\n",
    "cross_validator = KFold(n_splits=5, shuffle=True, random_state=241)\n",
    "grid_search = GridSearchCV(clsfr, grid, scoring=\"accuracy\", cv=cross_validator)"
   ]
  },
  {
   "cell_type": "code",
   "execution_count": 10,
   "metadata": {},
   "outputs": [
    {
     "data": {
      "text/plain": [
       "GridSearchCV(cv=KFold(n_splits=5, random_state=241, shuffle=True),\n",
       "       error_score='raise-deprecating',\n",
       "       estimator=SVC(C=1.0, cache_size=200, class_weight=None, coef0=0.0,\n",
       "  decision_function_shape='ovr', degree=3, gamma='auto_deprecated',\n",
       "  kernel='linear', max_iter=-1, probability=False, random_state=241,\n",
       "  shrinking=True, tol=0.001, verbose=False),\n",
       "       fit_params=None, iid='warn', n_jobs=None,\n",
       "       param_grid={'C': array([1.e-05, 1.e-04, 1.e-03, 1.e-02, 1.e-01, 1.e+00, 1.e+01, 1.e+02,\n",
       "       1.e+03, 1.e+04, 1.e+05])},\n",
       "       pre_dispatch='2*n_jobs', refit=True, return_train_score='warn',\n",
       "       scoring='accuracy', verbose=0)"
      ]
     },
     "execution_count": 10,
     "metadata": {},
     "output_type": "execute_result"
    }
   ],
   "source": [
    "grid_search.fit(vectorized_X, data.target)"
   ]
  },
  {
   "cell_type": "code",
   "execution_count": 11,
   "metadata": {},
   "outputs": [
    {
     "data": {
      "text/plain": [
       "array([[1.00000000e-05, 5.52631579e-01],\n",
       "       [1.00000000e-04, 5.52631579e-01],\n",
       "       [1.00000000e-03, 5.52631579e-01],\n",
       "       [1.00000000e-02, 5.52631579e-01],\n",
       "       [1.00000000e-01, 9.50167973e-01],\n",
       "       [1.00000000e+00, 9.93281075e-01],\n",
       "       [1.00000000e+01, 9.93281075e-01],\n",
       "       [1.00000000e+02, 9.93281075e-01],\n",
       "       [1.00000000e+03, 9.93281075e-01],\n",
       "       [1.00000000e+04, 9.93281075e-01],\n",
       "       [1.00000000e+05, 9.93281075e-01]])"
      ]
     },
     "metadata": {},
     "output_type": "display_data"
    }
   ],
   "source": [
    "scores = [(param[\"C\"], score) for param, score in zip(grid_search.cv_results_[\"params\"], grid_search.cv_results_[\"mean_test_score\"]) ]\n",
    "scores = sp.array(scores)\n",
    "display(scores)\n",
    "\n",
    "best_C = scores[sp.argmax(scores[:, 1]), 0]"
   ]
  },
  {
   "cell_type": "code",
   "execution_count": 12,
   "metadata": {},
   "outputs": [],
   "source": [
    "best_svm = SVC(kernel=\"linear\", random_state=241, C=best_C)"
   ]
  },
  {
   "cell_type": "code",
   "execution_count": 13,
   "metadata": {},
   "outputs": [
    {
     "data": {
      "text/plain": [
       "SVC(C=1.0, cache_size=200, class_weight=None, coef0=0.0,\n",
       "  decision_function_shape='ovr', degree=3, gamma='auto_deprecated',\n",
       "  kernel='linear', max_iter=-1, probability=False, random_state=241,\n",
       "  shrinking=True, tol=0.001, verbose=False)"
      ]
     },
     "execution_count": 13,
     "metadata": {},
     "output_type": "execute_result"
    }
   ],
   "source": [
    "best_svm.fit(vectorized_X, data.target)"
   ]
  },
  {
   "cell_type": "code",
   "execution_count": 30,
   "metadata": {},
   "outputs": [
    {
     "name": "stdout",
     "output_type": "stream",
     "text": [
      "*** OUTPUT (output/01_valuable_words.dat) ***\n",
      "atheism,atheists,bible,god,keith,moon,religion,sci,sky,space\n"
     ]
    }
   ],
   "source": [
    "@answer\n",
    "def valuable_words(fout):\n",
    "    ids = sp.argsort(sp.absolute(best_svm.coef_.toarray()[0]))[-10:]\n",
    "    feature_names = vectorizer.get_feature_names()\n",
    "    words = [feature_names[i] for i in ids]\n",
    "    words = sorted(words, key=str.lower)\n",
    "    fout.write(\",\".join(words))\n",
    "valuable_words()"
   ]
  }
 ],
 "metadata": {
  "kernelspec": {
   "display_name": "Python 3",
   "language": "python",
   "name": "python3"
  },
  "language_info": {
   "codemirror_mode": {
    "name": "ipython",
    "version": 3
   },
   "file_extension": ".py",
   "mimetype": "text/x-python",
   "name": "python",
   "nbconvert_exporter": "python",
   "pygments_lexer": "ipython3",
   "version": "3.6.5"
  }
 },
 "nbformat": 4,
 "nbformat_minor": 2
}
