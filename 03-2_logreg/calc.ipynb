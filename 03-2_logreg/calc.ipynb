{
 "cells": [
  {
   "cell_type": "code",
   "execution_count": 1,
   "metadata": {},
   "outputs": [],
   "source": [
    "exec(open(\"../header.py\", \"r\").read())"
   ]
  },
  {
   "cell_type": "code",
   "execution_count": 93,
   "metadata": {},
   "outputs": [],
   "source": [
    "from scipy import linalg\n",
    "from sklearn.metrics import roc_auc_score"
   ]
  },
  {
   "cell_type": "code",
   "execution_count": 30,
   "metadata": {},
   "outputs": [
    {
     "data": {
      "text/html": [
       "<div>\n",
       "<style scoped>\n",
       "    .dataframe tbody tr th:only-of-type {\n",
       "        vertical-align: middle;\n",
       "    }\n",
       "\n",
       "    .dataframe tbody tr th {\n",
       "        vertical-align: top;\n",
       "    }\n",
       "\n",
       "    .dataframe thead th {\n",
       "        text-align: right;\n",
       "    }\n",
       "</style>\n",
       "<table border=\"1\" class=\"dataframe\">\n",
       "  <thead>\n",
       "    <tr style=\"text-align: right;\">\n",
       "      <th></th>\n",
       "      <th>0</th>\n",
       "      <th>1</th>\n",
       "      <th>2</th>\n",
       "    </tr>\n",
       "  </thead>\n",
       "  <tbody>\n",
       "    <tr>\n",
       "      <th>0</th>\n",
       "      <td>-1</td>\n",
       "      <td>-0.663827</td>\n",
       "      <td>-0.138526</td>\n",
       "    </tr>\n",
       "    <tr>\n",
       "      <th>1</th>\n",
       "      <td>1</td>\n",
       "      <td>1.994596</td>\n",
       "      <td>2.468025</td>\n",
       "    </tr>\n",
       "    <tr>\n",
       "      <th>2</th>\n",
       "      <td>-1</td>\n",
       "      <td>-1.247395</td>\n",
       "      <td>0.749425</td>\n",
       "    </tr>\n",
       "    <tr>\n",
       "      <th>3</th>\n",
       "      <td>1</td>\n",
       "      <td>2.309374</td>\n",
       "      <td>1.899836</td>\n",
       "    </tr>\n",
       "    <tr>\n",
       "      <th>4</th>\n",
       "      <td>1</td>\n",
       "      <td>0.849143</td>\n",
       "      <td>2.407750</td>\n",
       "    </tr>\n",
       "  </tbody>\n",
       "</table>\n",
       "</div>"
      ],
      "text/plain": [
       "   0         1         2\n",
       "0 -1 -0.663827 -0.138526\n",
       "1  1  1.994596  2.468025\n",
       "2 -1 -1.247395  0.749425\n",
       "3  1  2.309374  1.899836\n",
       "4  1  0.849143  2.407750"
      ]
     },
     "metadata": {},
     "output_type": "display_data"
    }
   ],
   "source": [
    "data = pd.read_csv(data_path/\"data-logistic.csv\", header=None)\n",
    "display(data.head())\n",
    "\n",
    "y = data.iloc[:, 0]\n",
    "X = data.iloc[:, 1:]"
   ]
  },
  {
   "cell_type": "code",
   "execution_count": 94,
   "metadata": {},
   "outputs": [],
   "source": [
    "def predict(w, x):\n",
    "    return 1/(1+sp.exp(-sp.dot(x, w)))"
   ]
  },
  {
   "cell_type": "code",
   "execution_count": 35,
   "metadata": {},
   "outputs": [],
   "source": [
    "def lagr(C, w, X, y):\n",
    "    return 1/X.shape[0]*( sp.sum( sp.log( 1 + sp.exp(-y*sp.dot(X, w) ) ) ) ) + 1/2*C*sp.linalg.norm(w)**2"
   ]
  },
  {
   "cell_type": "code",
   "execution_count": 124,
   "metadata": {},
   "outputs": [],
   "source": [
    "def jac_step(k, C, w, X, y):\n",
    "    return w + k/X.shape[0]*sp.sum( ((1 - 1/(1 + sp.exp(-y*sp.dot(X, w))))[:, sp.newaxis]*y[:, sp.newaxis]*X ), axis=0) - k*C*w"
   ]
  },
  {
   "cell_type": "code",
   "execution_count": 157,
   "metadata": {},
   "outputs": [],
   "source": [
    "k = 0.1\n",
    "C = 10\n",
    "limit = 1E-5\n",
    "w_init = sp.array([0.0,0.0])"
   ]
  },
  {
   "cell_type": "code",
   "execution_count": 197,
   "metadata": {},
   "outputs": [],
   "source": [
    "def minimize(k, C, w, X, y):\n",
    "    counter = 0\n",
    "\n",
    "    while True:\n",
    "        new_w = jac_step(k, C, w, X, y)\n",
    "        dist = sp.linalg.norm(w - new_w)\n",
    "        w = new_w\n",
    "        counter += 1\n",
    "        if dist <= limit or counter > 10_000:\n",
    "            break\n",
    "    return w"
   ]
  },
  {
   "cell_type": "code",
   "execution_count": 198,
   "metadata": {},
   "outputs": [],
   "source": [
    "w_C = minimize(k, C, w_init.copy(), X, y)"
   ]
  },
  {
   "cell_type": "code",
   "execution_count": 199,
   "metadata": {},
   "outputs": [],
   "source": [
    "w_noC = minimize(k, 0, w_init.copy(), X, y)"
   ]
  },
  {
   "cell_type": "code",
   "execution_count": 200,
   "metadata": {},
   "outputs": [
    {
     "name": "stdout",
     "output_type": "stream",
     "text": [
      "*** OUTPUT (output/01_compare_aucroc.dat) ***\n",
      "0.927 0.936\n"
     ]
    }
   ],
   "source": [
    "@answer\n",
    "def compare_aucroc(fout):\n",
    "    w_init = sp.array([0,0])\n",
    "    \n",
    "    auc_noC = roc_auc_score(y, predict(w_noC, X))\n",
    "    auc_C = roc_auc_score(y, predict(w_C, X))\n",
    "    \n",
    "    fout.write(f\"{auc_noC:.3f} {auc_C:.3f}\")\n",
    "compare_aucroc()"
   ]
  },
  {
   "cell_type": "code",
   "execution_count": 201,
   "metadata": {},
   "outputs": [
    {
     "data": {
      "text/plain": [
       "-2.024268377365246"
      ]
     },
     "metadata": {},
     "output_type": "display_data"
    },
    {
     "data": {
      "text/plain": [
       "1   -2.024268\n",
       "2   -3.094727\n",
       "dtype: float64"
      ]
     },
     "metadata": {},
     "output_type": "display_data"
    }
   ],
   "source": [
    "def test():\n",
    "    C = 10\n",
    "    w = sp.array([0.2, 0.3])\n",
    "    eps = sp.array([0.0000001, 0])\n",
    "    display(-(lagr(C, w+eps, X, y) - lagr(C, w, X, y))/sp.linalg.norm(eps))\n",
    "    display(1/X.shape[0]*sp.sum( ((1 - 1/(1 + sp.exp(-y*sp.dot(X, w))))[:, sp.newaxis]*y[:, sp.newaxis]*X ) - C*w, axis=0))\n",
    "test()"
   ]
  }
 ],
 "metadata": {
  "kernelspec": {
   "display_name": "Python 3",
   "language": "python",
   "name": "python3"
  },
  "language_info": {
   "codemirror_mode": {
    "name": "ipython",
    "version": 3
   },
   "file_extension": ".py",
   "mimetype": "text/x-python",
   "name": "python",
   "nbconvert_exporter": "python",
   "pygments_lexer": "ipython3",
   "version": "3.6.5"
  }
 },
 "nbformat": 4,
 "nbformat_minor": 2
}
